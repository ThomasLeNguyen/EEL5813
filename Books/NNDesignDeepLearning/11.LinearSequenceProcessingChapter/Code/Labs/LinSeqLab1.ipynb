{
 "cells": [
  {
   "cell_type": "markdown",
   "metadata": {},
   "source": [
    "[![Open In Colab](https://colab.research.google.com/assets/colab-badge.svg)](https://colab.research.google.com/github/NNDesignDeepLearning/NNDesignDeepLearning/blob/master/05.PythonChapter/Code/LabSolutions/PythonLab1_Solution.ipynb)"
   ]
  },
  {
   "cell_type": "markdown",
   "metadata": {},
   "source": [
    "# Linear Sequence Processing Lab 1 Objective\n",
    "\n",
    "This objective of this lab is to help you experiment with linear sequence processing systems. The experiments will involve\n",
    "\n",
    "- Finding and ploting impulse responses for FIR and IIR system.\n",
    "- Finding responses for both real poles and complex poles.\n",
    "- Finding and plotting responses for both input/output and state-space models.\n",
    "- Approximating IIR systems with FIR systems.\n",
    "\n",
    "Some of the cells in this notebook are prefilled with working code. In addition, there will be cells with missing code (labeled `# TODO`), which you will need to complete. If you need additional cells, you can use the `Insert` menu at the top of the page.\n",
    "\n",
    "## Loading Modules\n",
    "\n",
    "We begin by loading some useful modules."
   ]
  },
  {
   "metadata": {
    "ExecuteTime": {
     "end_time": "2025-06-23T22:08:10.231913Z",
     "start_time": "2025-06-23T22:08:10.229456Z"
    }
   },
   "cell_type": "code",
   "source": [
    "%matplotlib inline\n",
    "import matplotlib.pyplot as plt\n",
    "import numpy as np\n"
   ],
   "outputs": [],
   "execution_count": 4
  },
  {
   "metadata": {},
   "cell_type": "markdown",
   "source": [
    "# Input/Output Network\n",
    "\n",
    "![](IIR_Network.jpg)\n",
    "\n",
    "We first create a class that represents this linear input/output network. The network can be used to implement both IIR and FIR systems, based on how the TDL are set up. To initialize the network, you enter the **IW** and **LW** matrices and the initial **p** and **a** TDLs. If the TDLs are not provided, they should be initialized to zero."
   ]
  },
  {
   "metadata": {
    "ExecuteTime": {
     "end_time": "2025-06-23T22:08:10.245240Z",
     "start_time": "2025-06-23T22:08:10.240971Z"
    }
   },
   "cell_type": "code",
   "source": [
    "class input_output:\n",
    "    \"\"\"\n",
    "    Simple input/output network\n",
    "    \"\"\"\n",
    "\n",
    "    def __init__(self, iw, lw, b, p_tdl=[], a_tdl=[]):\n",
    "        \"\"\"\n",
    "        Initialize network with input and layer weights.\n",
    "\n",
    "        Args:\n",
    "            iw: input weights (list or array)\n",
    "            lw: Layer weights (list or array)\n",
    "            b: bias\n",
    "            p_tdl: Previous inputs in TDL (list or array)\n",
    "            a_tdl: Previous outputs in TDL (list or array)\n",
    "        \"\"\"\n",
    "        # TODO: Convert input weights, layer weights, and bias to appropriate format\n",
    "        self.iw =\n",
    "        self.lw =\n",
    "        self.b =\n",
    "\n",
    "        # TODO: Initialize tapped delay lines (previous inputs)\n",
    "        # If p_tdl is provided, use it; otherwise initialize with zeros\n",
    "        if len(p_tdl) > 0:\n",
    "            self.p_tdl =\n",
    "        else:\n",
    "            if len(self.iw) > 0:\n",
    "                self.p_tdl =\n",
    "            else:\n",
    "                self.p_tdl =\n",
    "\n",
    "        # TODO: Initialize tapped delay lines (previous outputs)\n",
    "        # If a_tdl is provided, use it; otherwise initialize with zeros\n",
    "        if len(a_tdl) > 0:\n",
    "            self.a_tdl =\n",
    "        else:\n",
    "            if len(self.lw) > 0:\n",
    "                self.a_tdl =\n",
    "            else:\n",
    "                self.a_tdl =\n",
    "\n",
    "\n",
    "    def step(self, p):\n",
    "        \"\"\"\n",
    "        Perform one step\n",
    "\n",
    "        Args:\n",
    "            p: Input sample\n",
    "\n",
    "        Returns:\n",
    "            a: Output sample\n",
    "        \"\"\"\n",
    "        # TODO: Multiply input weight times current input\n",
    "        a =\n",
    "\n",
    "        # TODO: Multiply input weights times previous inputs in TDL\n",
    "        for i in range(len(self.p_tdl)):\n",
    "            a +=\n",
    "\n",
    "        # TODO: Multiply layer weights times previous outputs in TDL\n",
    "        for i in range(len(self.a_tdl)):\n",
    "            a +=\n",
    "\n",
    "        # TODO: Add the bias\n",
    "        a += self.b\n",
    "\n",
    "        # TODO: Update input TDL (tapped delay line)\n",
    "        if len(self.p_tdl) > 0:\n",
    "            self.p_tdl =\n",
    "            self.p_tdl[0] =\n",
    "\n",
    "        # TODO: Update output TDL\n",
    "        if len(self.a_tdl) > 0:\n",
    "            self.a_tdl =\n",
    "            self.a_tdl[0] =\n",
    "\n",
    "        return a\n",
    "\n",
    "    def process(self, input_sequence):\n",
    "        \"\"\"\n",
    "        Process an entire sequence.\n",
    "\n",
    "        Args:\n",
    "            input_sequence: Input sequence (list or array)\n",
    "\n",
    "        Returns:\n",
    "            output_sequence: Network output\n",
    "        \"\"\"\n",
    "        # TODO: Initialize the output array with zeros\n",
    "        output =\n",
    "\n",
    "        # TODO: Process each input sample and store the result in the output array\n",
    "        for i in range(len(input_sequence)):\n",
    "            output[i] =\n",
    "\n",
    "        return output"
   ],
   "outputs": [
    {
     "ename": "SyntaxError",
     "evalue": "invalid syntax (2139603007.py, line 18)",
     "output_type": "error",
     "traceback": [
      "  \u001B[36mCell\u001B[39m\u001B[36m \u001B[39m\u001B[32mIn[5]\u001B[39m\u001B[32m, line 18\u001B[39m\n\u001B[31m    \u001B[39m\u001B[31mself.iw =\u001B[39m\n             ^\n\u001B[31mSyntaxError\u001B[39m\u001B[31m:\u001B[39m invalid syntax\n"
     ]
    }
   ],
   "execution_count": 5
  },
  {
   "metadata": {},
   "cell_type": "markdown",
   "source": "The following function is useful in plotting the responses of dynamic networks."
  },
  {
   "metadata": {},
   "cell_type": "code",
   "source": [
    "def plot_response(a,t):\n",
    "    # Args:\n",
    "    #       a: sequence to be plotted\n",
    "    #       t: time\n",
    "    #\n",
    "    # Make a step plot of the sequence\n",
    "    markerline, stemlines, baseline = plt.stem(t, a,\n",
    "        linefmt='b-',             # blue solid line for stems\n",
    "        markerfmt='bo',           # blue circle markers\n",
    "        basefmt='r-')             # red baseline\n",
    "\n",
    "    # Customize stem line thickness\n",
    "    plt.setp(stemlines, linewidth=2.0)    # make stems thicker\n",
    "    plt.setp(baseline, linewidth=2.0)     # make baseline thicker\n",
    "\n",
    "    # Customize marker size\n",
    "    plt.setp(markerline, markersize=10)   # make markers bigger\n",
    "    plt.tick_params(axis='both', labelsize=16)\n"
   ],
   "outputs": [],
   "execution_count": null
  },
  {
   "metadata": {},
   "cell_type": "markdown",
   "source": [
    "## Test Problem\n",
    "To test this function, find the impulse response of the system in the textbook example difference equation in Eq. 11.29\n",
    "$$a(t)=a(t-1)-0.24a(t-2)+p(t-1)$$\n",
    "The impulse response should appear as in Figure 11.14."
   ]
  },
  {
   "metadata": {},
   "cell_type": "code",
   "source": [
    "IW = [0, 1]\n",
    "LW = [1, -0.24]\n",
    "b = 0\n",
    "\n",
    "# TODO: Create the dynamic network using the input_output class\n",
    "system =\n",
    "\n",
    "p = [1, 0, 0, 0, 0, 0]\n",
    "\n",
    "a = system.process(p)\n",
    "\n",
    "# TODO: Define the time points for plotting\n",
    "t =\n",
    "\n",
    "# Plot the response\n",
    "plot_response(a,t)\n"
   ],
   "outputs": [],
   "execution_count": null
  },
  {
   "metadata": {},
   "cell_type": "markdown",
   "source": [
    "## Figure 11.5 Problem\n",
    "Now test the code on the system in Figure 11.5, and the weights given by\n",
    "$$\\mathbf{IW}=\\begin{bmatrix}\n",
    "0.6 \\end{bmatrix},b=\\begin{bmatrix}\n",
    " 0\\end{bmatrix},\n",
    "\\mathbf{LW}=\\begin{bmatrix}\n",
    "1.62  & -1\\\\\n",
    "\\end{bmatrix}$$\n",
    "This corresponds to the difference equation\n",
    "$$a(t)=1.62a(t-1)-a(t-2)+0.6p(t-1)$$\n",
    "Find and plot the impulse response for 10 time steps. This should match Figure 11.2."
   ]
  },
  {
   "metadata": {},
   "cell_type": "code",
   "source": [
    "IW = [0, 0.6]\n",
    "LW = [1.62, -1]\n",
    "b = 0\n",
    "\n",
    "# TODO: Create the system using the input_output class\n",
    "system =\n",
    "\n",
    "p = [1, 0, 0, 0, 0, 0, 0, 0, 0, 0, 0]\n",
    "\n",
    "# TODO: Simulate the system to get the impulse response\n",
    "a =\n",
    "\n",
    "# TODO: Define the time sequence for plotting\n",
    "t =\n",
    "\n",
    "# Plot the response\n",
    "plot_response(a,t)\n"
   ],
   "outputs": [],
   "execution_count": null
  },
  {
   "metadata": {},
   "cell_type": "markdown",
   "source": [
    "## Find the Poles\n",
    "\n",
    "Find the poles of the system, and display them in both rectangular form and polar form."
   ]
  },
  {
   "metadata": {},
   "cell_type": "code",
   "source": [
    "denominator = [1, -1.62, 1]\n",
    "\n",
    "# TODO: Use np.roots to find the poles of the system\n",
    "poles =\n",
    "\n",
    "# Print out the poles\n",
    "print('System poles:')\n",
    "print(poles)\n",
    "\n",
    "# TODO: Convert poles to magnitude and phase\n",
    "magnitudes =\n",
    "phases =\n",
    "print('Pole magnitudes:')\n",
    "print(magnitudes)\n",
    "print('Pole phases:')\n",
    "print(phases)"
   ],
   "outputs": [],
   "execution_count": null
  },
  {
   "metadata": {},
   "cell_type": "markdown",
   "source": [
    "## Plotting Poles\n",
    "\n",
    "It often provides insight to plot the poles in the complex plane, and determine if the poles lie inside the unit circle. The following function produces such a plot"
   ]
  },
  {
   "metadata": {},
   "cell_type": "code",
   "source": [
    " def plot_poles(poles):\n",
    "    # Plot poles in the complex plane\n",
    "    plt.figure(figsize=(6, 6))\n",
    "    plt.axhline(0, color='gray', linestyle='--')\n",
    "    plt.axvline(0, color='gray', linestyle='--')\n",
    "    plt.gca().set_aspect('equal', 'box')\n",
    "\n",
    "    # Plot unit circle for reference\n",
    "    theta = np.linspace(0, 2*np.pi, 400)\n",
    "    plt.plot(np.cos(theta), np.sin(theta), 'k--', label='Unit Circle')\n",
    "\n",
    "    # Plot poles\n",
    "    plt.plot(poles.real, poles.imag, 'rx', markersize=10, label='Poles')\n",
    "\n",
    "    plt.title(\"Poles in the Complex Plane\")\n",
    "    plt.xlabel(\"Real Part\")\n",
    "    plt.ylabel(\"Imaginary Part\")\n",
    "    plt.grid(True)\n"
   ],
   "outputs": [],
   "execution_count": null
  },
  {
   "metadata": {},
   "cell_type": "markdown",
   "source": "Use `plot_poles` to plot the previous ploles that you found."
  },
  {
   "metadata": {},
   "cell_type": "code",
   "source": "plot_poles(poles)",
   "outputs": [],
   "execution_count": null
  },
  {
   "metadata": {},
   "cell_type": "markdown",
   "source": "You should find the the poles are on the unit circle. This means that the impulse response will not decay. The system has infinite memory."
  },
  {
   "metadata": {},
   "cell_type": "markdown",
   "source": [
    "# State Space Network\n",
    "\n",
    "![](StateSpace.jpg)\n",
    "\n",
    "Next we create a state space network. Create a class `state_space`, similar to the input/output network, with `__init__`, `step` and `process methods`. The network is initialized with the network weights and biases and the initial state $\\mathbf{a}(0)$."
   ]
  },
  {
   "metadata": {},
   "cell_type": "code",
   "source": [
    "class state_space:\n",
    "    \"\"\"\n",
    "    State space network\n",
    "    \"\"\"\n",
    "    def __init__(self, iw11, lw11, b1, lw21, b2, a_0=[]):\n",
    "        \"\"\"\n",
    "        Initialize network with input and layer weights and biases.\n",
    "\n",
    "        Args:\n",
    "            iw11: Input weights (list or array)\n",
    "            lw11: Feedback layer weights (list or array)\n",
    "            b1:   First layer bias (list or array)\n",
    "            lw21: Feedforward layer weights (list or array)\n",
    "            b1:   Second layer bias (list or array)\n",
    "            a_0:  Initial state (list or array)\n",
    "        \"\"\"\n",
    "        # TODO: Convert input weights to column vector\n",
    "        self.iw11 =\n",
    "\n",
    "        # TODO: Convert layer weights and biases to numpy arrays\n",
    "        self.lw11 =\n",
    "        self.lw21 =\n",
    "        self.b1 =\n",
    "        self.b2 =\n",
    "\n",
    "        # TODO: Initialize state\n",
    "        # If a_0 is provided, use it; otherwise initialize with zeros\n",
    "        if len(a_0) > 0:\n",
    "            self.a_0 =\n",
    "        else:\n",
    "            if len(self.lw11) > 0:\n",
    "                self.a_0 =\n",
    "            else:\n",
    "                self.a_0 =\n",
    "\n",
    "    def step(self, p):\n",
    "        \"\"\"\n",
    "        Perform one step\n",
    "\n",
    "        Args:\n",
    "            p: Input sample\n",
    "\n",
    "        Returns:\n",
    "            a: Output sample\n",
    "        \"\"\"\n",
    "\n",
    "        p = np.atleast_1d(p)\n",
    "\n",
    "        # a1 = iw11*p + lw11*a_0 + b1\n",
    "        a1 =  np.matmul(self.iw11, p) + np.matmul(self.lw11, self.a_0) + self.b1\n",
    "\n",
    "        # TODO: Compute the second layer output\n",
    "        # a2 = lw21*a1 + b2\n",
    "        a2 =\n",
    "\n",
    "\n",
    "        if len(self.a_0) > 0:\n",
    "            self.a_0 = a1\n",
    "\n",
    "        return a2\n",
    "\n",
    "    def process(self, input_sequence):\n",
    "        \"\"\"\n",
    "        Process an entire sequence.\n",
    "\n",
    "        Args:\n",
    "            input_sequence: Input sequence (list or array)\n",
    "\n",
    "        Returns:\n",
    "            output_sequence: Network output\n",
    "        \"\"\"\n",
    "\n",
    "        # Note: For state space models, there will be one more output than input\n",
    "        output = np.zeros(len(input_sequence)+1)\n",
    "\n",
    "        # output[0] = lw21*a_0 + b2\n",
    "        output[0] = np.matmul(self.lw21, self.a_0) + self.b2\n",
    "\n",
    "        # TODO: Compute the remaining outputs by processing each input\n",
    "        for i in range(len(input_sequence)):\n",
    "            output[i+1] =\n",
    "\n",
    "        return output\n"
   ],
   "outputs": [],
   "execution_count": null
  },
  {
   "metadata": {},
   "cell_type": "markdown",
   "source": [
    "## Test Problem\n",
    "To test this function, we will use the same difference equation we used earlier. Find the impulse response of the system in the textbook example difference equation in Eq. 11.29\n",
    "$$a(t)=a(t-1)-0.24a(t-2)+p(t-1)$$\n",
    "The impulse response should appear as in Figure 11.14 and as in the first plot in this lab. You can use the canonical form for the state model, as described in the text."
   ]
  },
  {
   "metadata": {},
   "cell_type": "code",
   "source": [
    "# Use the canonical form for the state model as described in the text\n",
    "lw11 = np.array([[1, -0.24],[1, 0]]).transpose()\n",
    "iw11 = np.array([1, 0])\n",
    "lw21 = np.array([1, 0]).transpose()\n",
    "b1 = np.zeros(2)\n",
    "b2 = 0\n",
    "a0 = [0, 0]\n",
    "\n",
    "# TODO: Define the impulse input sequence\n",
    "p =\n",
    "\n",
    "# TODO: Create the state space network and simulate it\n",
    "net =\n",
    "a = net.process(p)\n",
    "\n",
    "# Note: For state space models, there will be one more output than input\n",
    "t = np.arange(len(p)+1)\n",
    "\n",
    "# Plot the response\n",
    "plot_response(a,t)\n"
   ],
   "outputs": [],
   "execution_count": null
  },
  {
   "metadata": {},
   "cell_type": "markdown",
   "source": [
    "# Approximating IIR with FIR\n",
    "\n",
    "In this section, test whether an IIR network can be approximated by an IIR network. Consider the following difference equation.\n",
    "\n",
    "$$a(t)=0.7a(t-1)-0.12a(t-2)+p(t)$$\n",
    "\n",
    "Find the impulse response for this IIR system using the `input-output` class. Then find the FIR system that has approximately the same impulse response. Then simulate both systems with the input\n",
    "\n",
    "$$p(t)=\\delta (t)+2\\delta (t-1)+\\delta (t-2)$$\n",
    "\n",
    "and compare their responses."
   ]
  },
  {
   "metadata": {},
   "cell_type": "markdown",
   "source": "In the next code block, use the original IIR network to find the impulse response."
  },
  {
   "metadata": {},
   "cell_type": "code",
   "source": [
    "IW = [0, 1]\n",
    "LW = [0.7, -0.12]\n",
    "b = 0\n",
    "\n",
    "# TODO: Create the IIR system using the input_output class\n",
    "system =\n",
    "\n",
    "p = [1, 0, 0, 0, 0, 0, 0, 0, 0, 0, 0]\n",
    "\n",
    "# TODO: Simulate the system to get the impulse response\n",
    "a =\n",
    "\n",
    "# TODO: Define the time sequence for plotting\n",
    "t =\n",
    "\n",
    "# Print the response\n",
    "print('Impulse Response:')\n",
    "print(a)\n",
    "\n",
    "# Plot the response\n",
    "plot_response(a,t)\n"
   ],
   "outputs": [],
   "execution_count": null
  },
  {
   "metadata": {},
   "cell_type": "markdown",
   "source": [
    "## Significant Terms\n",
    "\n",
    "Find the terms in the impulse response that are greater than 0.01, and create an FIR system that has the same impulse response for those values. Then check the impulse response using the `input-output` class."
   ]
  },
  {
   "metadata": {},
   "cell_type": "code",
   "source": [
    "# Use the terms from the impulse response that are greater than 0.01\n",
    "IW_a = [0, 1, 0.7, 0.37, 0.175, 0.0781, 0.03367, 0.014197]\n",
    "LW_a = []  # No feedback for FIR system\n",
    "b_a = 0\n",
    "\n",
    "# TODO: Create the approximate FIR system using the input_output class\n",
    "system_a =\n",
    "\n",
    "\n",
    "p = [1, 0, 0, 0, 0, 0, 0, 0, 0, 0, 0]\n",
    "\n",
    "# TODO: Simulate the system to get the impulse response\n",
    "a_a =\n",
    "\n",
    "# TODO: Define the time sequence for plotting\n",
    "t = np.arange(len(p))\n",
    "\n",
    "# Print the response\n",
    "print('Impulse Response:')\n",
    "print(a_a)\n",
    "\n",
    "# Plot the response\n",
    "plot_response(a_a,t)"
   ],
   "outputs": [],
   "execution_count": null
  },
  {
   "metadata": {},
   "cell_type": "markdown",
   "source": [
    "## Compare Responses\n",
    "\n",
    "Now compare the responses of the original IIR system and the approximate FIR system to the input sequence\n",
    "\n",
    "$$p(t)=\\delta (t)+2\\delta (t-1)+\\delta (t-2)$$"
   ]
  },
  {
   "metadata": {},
   "cell_type": "code",
   "source": [
    "\n",
    "# Uncomment the line below to use this input sequence\n",
    "#p = [1, 2, 1, 0, 0, 0, 0, 0, 0, 0, 0]\n",
    "\n",
    "# For now, we'll use the impulse input to compare the systems\n",
    "p = [1, 0, 0, 0, 0, 0, 0, 0, 0, 0, 0]\n",
    "\n",
    "# TODO: Create both systems (original IIR and approximate FIR)\n",
    "system =\n",
    "system_a =\n",
    "\n",
    "a = system.process(p)\n",
    "a_a = system_a.process(p)\n",
    "e = a - a_a\n",
    "\n",
    "t = np.arange(len(p))\n",
    "\n",
    "# Print the responses and the error\n",
    "print('Original Response:')\n",
    "print(a)\n",
    "print('Approximate Response:')\n",
    "print(a_a)\n",
    "print('Error:')\n",
    "print(e)\n",
    "\n",
    "# Plot the error\n",
    "plot_response(e,t)"
   ],
   "outputs": [],
   "execution_count": null
  },
  {
   "metadata": {},
   "cell_type": "markdown",
   "source": "You should have found that the difference in responses was very small. You can experiment by including fewer terms in the impulse response of the approximate system to see how the accuracy degrades."
  },
  {
   "cell_type": "markdown",
   "metadata": {},
   "source": [
    "## Explore Further\n",
    "\n",
    "Experiment with different dynamic systems. Change the left and right sides of the difference equations.\n",
    "\n",
    "Try different input sequences. Notice that the terms due to the system poles in the impulse response appear in the response to any input sequence. For example, a pole at 0.5 will produce a multiple of $(0.5)^{t}$ in the response to any input sequence.\n"
   ]
  }
 ],
 "metadata": {
  "kernelspec": {
   "display_name": "Python 3",
   "language": "python",
   "name": "python3"
  },
  "language_info": {
   "codemirror_mode": {
    "name": "ipython",
    "version": 3
   },
   "file_extension": ".py",
   "mimetype": "text/x-python",
   "name": "python",
   "nbconvert_exporter": "python",
   "pygments_lexer": "ipython3",
   "version": "3.6.9"
  }
 },
 "nbformat": 4,
 "nbformat_minor": 4
}
